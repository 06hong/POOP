{
 "cells": [
  {
   "cell_type": "code",
   "execution_count": 14,
   "id": "668e6881-5e6e-464a-822f-99f2745f7a20",
   "metadata": {},
   "outputs": [
    {
     "name": "stdout",
     "output_type": "stream",
     "text": [
      "I am Tim and I am 19 years old\n",
      "I don't know what I say\n",
      "I am Nat and I am 6 years old and I am color red\n",
      "Meow\n",
      "I don't know what I say\n"
     ]
    }
   ],
   "source": [
    "class pet:\n",
    "    def __init__(self, name, age):\n",
    "        self.name=name\n",
    "        self.age=age\n",
    "        \n",
    "    def show(self):\n",
    "        print(f\"I am {self.name} and I am {self.age} years old\")\n",
    "        \n",
    "    def speak(self):\n",
    "        print(\"I don't know what I say\")\n",
    "\n",
    "\n",
    "class Cat(pet):\n",
    "    \n",
    "    def __init__(self, name, age, color):\n",
    "        #super class inherit from pet\n",
    "        super().__init__(name, age)\n",
    "        self.color = color\n",
    "    \n",
    "    #overides speak from pet\n",
    "    def speak(self):\n",
    "        print('Meow')\n",
    "        \n",
    "    def show(self):\n",
    "        print(f\"I am {self.name} and I am {self.age} years old and I am color {self.color}\")\n",
    "        \n",
    "        \n",
    "    \n",
    "\n",
    "class Dog(pet):\n",
    "    \n",
    "    #overides speak from pet\n",
    "    def speak(self):\n",
    "        print('Bark')\n",
    "        \n",
    "        \n",
    "class Fish(pet):\n",
    "    pass\n",
    "        \n",
    "p = pet('Tim',19)\n",
    "p.show()\n",
    "p.speak()\n",
    "\n",
    "#even tho no method called 'show' it inherits the properity/attributes from pet class\n",
    "c = Cat('Nat',6,'red')\n",
    "c.show()\n",
    "c.speak()\n",
    "\n",
    "#when call f.speak(), the speak in pet calls out because no speak method in fish\n",
    "f =Fish('bubble',2)\n",
    "f.speak()"
   ]
  },
  {
   "cell_type": "code",
   "execution_count": null,
   "id": "6aa8e7b1-59e5-41d4-8cdb-24234e9fe0ca",
   "metadata": {},
   "outputs": [],
   "source": [
    "#class attributes"
   ]
  },
  {
   "cell_type": "code",
   "execution_count": 9,
   "id": "d0b81021-c0e7-4c6a-9d8e-3ad46aa59843",
   "metadata": {},
   "outputs": [
    {
     "name": "stdout",
     "output_type": "stream",
     "text": [
      "2\n",
      "2\n"
     ]
    }
   ],
   "source": [
    "class Person:\n",
    "    #class attribute, does not use self so not regular atttibtute\n",
    "    #not different for each instance\n",
    "    number_of_people = 0\n",
    "    \n",
    "    def __init__(self, name):\n",
    "        self.name=name\n",
    "        \n",
    "p1 = Person('tim')\n",
    "p2 = Person('jill')\n",
    "\n",
    "p2.number_of_people = 8 #Person.number_of_people works the same\n",
    "\n",
    "print(p2.number_of_people)\n",
    "Person.number_of_people = 9\n",
    "print(p1.number_of_people)"
   ]
  },
  {
   "cell_type": "code",
   "execution_count": 17,
   "id": "619bb7c2-ff4c-4fb7-a684-a286f13024d2",
   "metadata": {},
   "outputs": [
    {
     "name": "stdout",
     "output_type": "stream",
     "text": [
      "2\n"
     ]
    }
   ],
   "source": [
    "#class methods, WHEN YOU DONT NEED ACCESS TO THE METHOD TO CALL IT\n",
    "#they only access class attributes or anything related to the class itselfs\n",
    "class Person:\n",
    "    #class attribute, does not use self so not regular atttibtute\n",
    "    #not different for each instance\n",
    "    number_of_people = 0\n",
    "    \n",
    "    def __init__(self, name):\n",
    "        self.name=name\n",
    "        Person.add_person()\n",
    "    \n",
    "    #act on the class itself, not self\n",
    "    @classmethod\n",
    "    def number_of_people_(cls):\n",
    "        return cls.number_of_people\n",
    "    \n",
    "    @classmethod\n",
    "    def add_person(cls):\n",
    "        cls.number_of_people +=1\n",
    "        \n",
    "p1 = Person('tim')\n",
    "p2 = Person('jill')\n",
    "\n",
    "print(Person.number_of_people_())\n"
   ]
  },
  {
   "cell_type": "code",
   "execution_count": 22,
   "id": "02b28971-b752-420a-a443-6fb7a2ba5a32",
   "metadata": {},
   "outputs": [
    {
     "name": "stdout",
     "output_type": "stream",
     "text": [
      "10\n",
      "run\n",
      "None\n"
     ]
    }
   ],
   "source": [
    "#staticmethods, use for organizational purpose\n",
    "\n",
    "class Math:\n",
    "    \n",
    "    #do something but don't change anything\n",
    "    @staticmethod\n",
    "    def add5(x):\n",
    "        return x + 5\n",
    "    \n",
    "    @staticmethod\n",
    "    def pr():\n",
    "        print(\"run\")\n",
    "    \n",
    "print(Math.add5(5))\n",
    "print(Math.pr())\n",
    "        "
   ]
  },
  {
   "cell_type": "code",
   "execution_count": null,
   "id": "8e25f0cb-e212-43d3-9fa2-8b10f384c42e",
   "metadata": {},
   "outputs": [],
   "source": []
  }
 ],
 "metadata": {
  "kernelspec": {
   "display_name": "Python 3",
   "language": "python",
   "name": "python3"
  },
  "language_info": {
   "codemirror_mode": {
    "name": "ipython",
    "version": 3
   },
   "file_extension": ".py",
   "mimetype": "text/x-python",
   "name": "python",
   "nbconvert_exporter": "python",
   "pygments_lexer": "ipython3",
   "version": "3.8.8"
  }
 },
 "nbformat": 4,
 "nbformat_minor": 5
}
