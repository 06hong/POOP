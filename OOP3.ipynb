{
 "cells": [
  {
   "cell_type": "code",
   "execution_count": 6,
   "id": "746c5429-baf1-49c1-8ad7-7e8cbaa5a396",
   "metadata": {},
   "outputs": [
    {
     "name": "stdout",
     "output_type": "stream",
     "text": [
      "bark\n"
     ]
    },
    {
     "data": {
      "text/plain": [
       "6"
      ]
     },
     "execution_count": 6,
     "metadata": {},
     "output_type": "execute_result"
    }
   ],
   "source": [
    "#POOP\n",
    "\n",
    "#whatever you create is an OBJECT which is an INSTANCE of a CLASS(defines the way the object interacts)\n",
    "#etc int + string = NO\n",
    "\n",
    "#METHOD\n",
    "#string= 'Hello'\n",
    "#print(string.upper()) = .upper() method acting on a specific object (based on the type of class they are etc: string, int)\n",
    "\n",
    "\n",
    "class Dog:\n",
    "\t\n",
    "    #method (operations that can be performed)\n",
    "    def bark(self):\n",
    "        print('bark')\n",
    "        \n",
    "    def add_one(self, x):\n",
    "        return x+1\n",
    "        \n",
    "        \n",
    "d =Dog()\n",
    "#variable d attached to an instance of class dog\n",
    "#dog is an object of class dog\n",
    "d.bark()\n",
    "#call the method\n",
    "d.add_one(5)\n",
    "    \n",
    "               \n",
    "        \n",
    "        \n",
    "        "
   ]
  },
  {
   "cell_type": "code",
   "execution_count": 25,
   "id": "d4f72ffb-1b45-4f3d-8e15-45eca2190c45",
   "metadata": {},
   "outputs": [
    {
     "name": "stdout",
     "output_type": "stream",
     "text": [
      "DK\n",
      "BILL\n",
      "3\n",
      "5\n",
      "23\n"
     ]
    }
   ],
   "source": [
    "class Dog:\n",
    "    \n",
    "    #instansiate the object right when it is created)\n",
    "    def __init__(self, name, age):\n",
    "        #attribute of class dog which is name\n",
    "        self.name = name\n",
    "        self.age = age\n",
    "        \n",
    "    def get_name(self):\n",
    "        return self.name\n",
    "    \n",
    "    def get_age(self):\n",
    "        return self.age\n",
    "    \n",
    "    def set_age(self,age):\n",
    "        self.age = age\n",
    "        \n",
    "        \n",
    "d = Dog('DK', 3)\n",
    "d2 = Dog('BILL',5)\n",
    "\n",
    "print(d.name)\n",
    "print(d2.name)\n",
    "print(d.age)\n",
    "print(d2.get_age())\n",
    "\n",
    "d.set_age(23) #set age to 23\n",
    "print(d.get_age())\n",
    "\n",
    "#sure you can do dog1_name= 'tim' etc but what if theres 20000 dogs thats why you objects to reuse something\n",
    "#sure you can do dogs= [] to access this it's a pain to find index and time conusiming and if you wanna delete then you would need a way to stay consitsten\n",
    "#that's why u do OOP\n",
    "\n",
    "\n",
    "\n",
    "\n",
    "        "
   ]
  },
  {
   "cell_type": "code",
   "execution_count": 29,
   "id": "5782fa40-6035-49a4-a2d2-ac0449ac88e9",
   "metadata": {},
   "outputs": [
    {
     "name": "stdout",
     "output_type": "stream",
     "text": [
      "85.0\n",
      "Tim\n",
      "False\n"
     ]
    }
   ],
   "source": [
    "# different classes can be an advantage\n",
    "class Student:\n",
    "    def __init__(self, name, age, grade):\n",
    "        self.name = name\n",
    "        self.age = age\n",
    "        self.grade = grade\n",
    "        \n",
    "    def get_grade(self):\n",
    "        return self.grade\n",
    "    \n",
    "class Course:\n",
    "    def __init__(self, name, max_students):\n",
    "        self.name = name\n",
    "        self.max_students = max_students\n",
    "        self.students = []\n",
    "        \n",
    "#now do method that allow to add students to this course\n",
    "                         #student is instance of student object\n",
    "    def add_students(self,student):\n",
    "        if len(self.students) < self.max_students:\n",
    "            self.students.append(student)\n",
    "            #add them in only if it's less than the maxmium students in the class\n",
    "            return True\n",
    "        return False\n",
    "    \n",
    "    def get_average_grade(self):\n",
    "        value = 0\n",
    "        for student in self.students:\n",
    "            value += student.get_grade()\n",
    "            \n",
    "        return value/len(self.students)\n",
    "    \n",
    "s1= Student('Tim',19,95)\n",
    "s2= Student('Bill',19,75)\n",
    "s3= Student('Jill',19,65)\n",
    "\n",
    "course = Course(\"Science\", 2)\n",
    "course.add_students(s1)\n",
    "course.add_students(s2)\n",
    "print(course.get_average_grade())\n",
    "print(course.students[0].name) #from self.students\n",
    "\n",
    "#now to try add 1 more student\n",
    "print(course.add_students(s3))\n",
    "#false, because didn't add him into the course as max_students = 2\n"
   ]
  },
  {
   "cell_type": "code",
   "execution_count": null,
   "id": "44d1a44b-5be9-47a1-aaa6-90a0be86d81b",
   "metadata": {},
   "outputs": [],
   "source": []
  }
 ],
 "metadata": {
  "kernelspec": {
   "display_name": "Python 3",
   "language": "python",
   "name": "python3"
  },
  "language_info": {
   "codemirror_mode": {
    "name": "ipython",
    "version": 3
   },
   "file_extension": ".py",
   "mimetype": "text/x-python",
   "name": "python",
   "nbconvert_exporter": "python",
   "pygments_lexer": "ipython3",
   "version": "3.8.8"
  }
 },
 "nbformat": 4,
 "nbformat_minor": 5
}
